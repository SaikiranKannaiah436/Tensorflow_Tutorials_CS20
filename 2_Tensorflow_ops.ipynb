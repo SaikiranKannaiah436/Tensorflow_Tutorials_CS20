{
 "cells": [
  {
   "cell_type": "code",
   "execution_count": 2,
   "metadata": {},
   "outputs": [],
   "source": [
    "import tensorflow as tf\n",
    "import numpy as np"
   ]
  },
  {
   "cell_type": "code",
   "execution_count": 3,
   "metadata": {},
   "outputs": [
    {
     "name": "stdout",
     "output_type": "stream",
     "text": [
      "5\n"
     ]
    }
   ],
   "source": [
    "# your first tensorflow program\n",
    "\n",
    "a = tf.constant(2)\n",
    "b = tf.constant(3)\n",
    "x = tf.add(a, b)\n",
    "\n",
    "with tf.Session() as sess:\n",
    "    print(sess.run(x))"
   ]
  },
  {
   "cell_type": "code",
   "execution_count": 5,
   "metadata": {},
   "outputs": [
    {
     "name": "stdout",
     "output_type": "stream",
     "text": [
      "8\n"
     ]
    }
   ],
   "source": [
    "# To visualize with graph with tensorboard\n",
    "\n",
    "a = tf.constant(3, name='a')\n",
    "b = tf.constant(5, name='b')\n",
    "\n",
    "x = tf.add(a, b, name='add')\n",
    "# create the summary writer after creating the graph and before running the session\n",
    "writer = tf.summary.FileWriter('./graphs', tf.get_default_graph())\n",
    "\n",
    "with tf.Session() as sess:\n",
    "    print(sess.run(x))\n",
    "writer.close()"
   ]
  },
  {
   "cell_type": "markdown",
   "metadata": {},
   "source": [
    "#### defining a constant\n",
    "\n",
    "    tf.constant(value, \n",
    "            dtype=None,\n",
    "            shape=None,\n",
    "            name='Const',\n",
    "            verify_shape=False)"
   ]
  },
  {
   "cell_type": "code",
   "execution_count": 7,
   "metadata": {},
   "outputs": [
    {
     "name": "stdout",
     "output_type": "stream",
     "text": [
      "[[0 2]\n",
      " [4 6]]\n"
     ]
    }
   ],
   "source": [
    "# Broadcasting also runs in tensorflow, very similar to numpy array\n",
    "\n",
    "a = tf.constant([2, 2], name='a')\n",
    "b = tf.constant([[0, 1], [2, 3]], name='b')\n",
    "prod = tf.multiply(a, b, name='prod')\n",
    "\n",
    "writer = tf.summary.FileWriter('./graphs/', tf.get_default_graph())\n",
    "\n",
    "with tf.Session() as sess:\n",
    "    print(sess.run(prod))\n"
   ]
  },
  {
   "cell_type": "markdown",
   "metadata": {},
   "source": [
    "### creating a tensors filled with certain value \n",
    "\n",
    "    tf.zeros(shape, dtype=tf.float32, name=None)\n",
    "\n",
    "    tf.zeros_like(input_tensor)\n",
    "    \n",
    "    tf.ones(shape, dtype=tf.float32, name=None)\n",
    "    \n",
    "    tf.ones_like(input_tensor, dtype=None, name=None, optimize=True)\n",
    "    \n",
    "    tf.fill(dims, value, name=None) EX- tf.fill([2, 3], 8) ==> [[8, 8, 8], [8, 8, 8]]"
   ]
  },
  {
   "cell_type": "markdown",
   "metadata": {},
   "source": [
    "### constants as sequences\n",
    "\n",
    "    1. tf.lin_space(start, stop, num, name=None) \n",
    "    EX - tf.lin_space(10.0, 13.0, 4) ==> [10., 11., 12., 13.]\n",
    "    \n",
    "    2. tf.range(start, limit=None, delta=1, dtype=None, name='range')\n",
    "    Ex - tf.range(3, 18, 3) ==> [3, 6, 9, 12, 15]\n",
    "    Ex - tf.range(5) ==> [0, 1, 2, 3, 4] \n",
    "    *Note - Tensor objects are not iterable*\n",
    "    \n",
    "    3. tf.random module generates randomly generated constants based on the seed tf.set_random_seed(seed)"
   ]
  },
  {
   "cell_type": "code",
   "execution_count": 3,
   "metadata": {},
   "outputs": [
    {
     "data": {
      "text/plain": [
       "True"
      ]
     },
     "execution_count": 3,
     "metadata": {},
     "output_type": "execute_result"
    }
   ],
   "source": [
    "# tensorflow seamlessly integrates with numpy array\n",
    "\n",
    "tf.int32 == np.int32"
   ]
  },
  {
   "cell_type": "code",
   "execution_count": 4,
   "metadata": {},
   "outputs": [
    {
     "data": {
      "text/plain": [
       "<tf.Tensor 'ones:0' shape=(2, 2) dtype=float32>"
      ]
     },
     "execution_count": 4,
     "metadata": {},
     "output_type": "execute_result"
    }
   ],
   "source": [
    "tf.ones([2, 2], np.float32)"
   ]
  },
  {
   "cell_type": "code",
   "execution_count": 5,
   "metadata": {},
   "outputs": [
    {
     "name": "stdout",
     "output_type": "stream",
     "text": [
      "<class 'tensorflow.python.framework.ops.Tensor'>\n",
      "[[0 0 0]\n",
      " [0 0 0]] <class 'numpy.ndarray'>\n"
     ]
    }
   ],
   "source": [
    "sess = tf.Session()\n",
    "a = tf.zeros([2, 3], np.int32)\n",
    "print(type(a))\n",
    "a = sess.run(a)\n",
    "print(a, type(a))"
   ]
  },
  {
   "cell_type": "markdown",
   "metadata": {},
   "source": [
    "#### Constants are stored in graph definition and graph definition is stored in protobuf (protocol buffers, which is google's language neutral, platform neutral, extensible mechanism for serializing data much like XML but smaller, faster, simpler. But when using constants with makes loading graphs much expensive when constants are big. Thus only use constants for primitive types and use variables or readers for more data that requires more memory"
   ]
  },
  {
   "cell_type": "code",
   "execution_count": 6,
   "metadata": {},
   "outputs": [
    {
     "name": "stdout",
     "output_type": "stream",
     "text": [
      "node {\n",
      "  name: \"ones/shape_as_tensor\"\n",
      "  op: \"Const\"\n",
      "  attr {\n",
      "    key: \"dtype\"\n",
      "    value {\n",
      "      type: DT_INT32\n",
      "    }\n",
      "  }\n",
      "  attr {\n",
      "    key: \"value\"\n",
      "    value {\n",
      "      tensor {\n",
      "        dtype: DT_INT32\n",
      "        tensor_shape {\n",
      "          dim {\n",
      "            size: 2\n",
      "          }\n",
      "        }\n",
      "        tensor_content: \"\\002\\000\\000\\000\\002\\000\\000\\000\"\n",
      "      }\n",
      "    }\n",
      "  }\n",
      "}\n",
      "node {\n",
      "  name: \"ones/Const\"\n",
      "  op: \"Const\"\n",
      "  attr {\n",
      "    key: \"dtype\"\n",
      "    value {\n",
      "      type: DT_FLOAT\n",
      "    }\n",
      "  }\n",
      "  attr {\n",
      "    key: \"value\"\n",
      "    value {\n",
      "      tensor {\n",
      "        dtype: DT_FLOAT\n",
      "        tensor_shape {\n",
      "        }\n",
      "        float_val: 1.0\n",
      "      }\n",
      "    }\n",
      "  }\n",
      "}\n",
      "node {\n",
      "  name: \"ones\"\n",
      "  op: \"Fill\"\n",
      "  input: \"ones/shape_as_tensor\"\n",
      "  input: \"ones/Const\"\n",
      "  attr {\n",
      "    key: \"T\"\n",
      "    value {\n",
      "      type: DT_FLOAT\n",
      "    }\n",
      "  }\n",
      "  attr {\n",
      "    key: \"index_type\"\n",
      "    value {\n",
      "      type: DT_INT32\n",
      "    }\n",
      "  }\n",
      "}\n",
      "node {\n",
      "  name: \"zeros/shape_as_tensor\"\n",
      "  op: \"Const\"\n",
      "  attr {\n",
      "    key: \"dtype\"\n",
      "    value {\n",
      "      type: DT_INT32\n",
      "    }\n",
      "  }\n",
      "  attr {\n",
      "    key: \"value\"\n",
      "    value {\n",
      "      tensor {\n",
      "        dtype: DT_INT32\n",
      "        tensor_shape {\n",
      "          dim {\n",
      "            size: 2\n",
      "          }\n",
      "        }\n",
      "        tensor_content: \"\\002\\000\\000\\000\\003\\000\\000\\000\"\n",
      "      }\n",
      "    }\n",
      "  }\n",
      "}\n",
      "node {\n",
      "  name: \"zeros/Const\"\n",
      "  op: \"Const\"\n",
      "  attr {\n",
      "    key: \"dtype\"\n",
      "    value {\n",
      "      type: DT_INT32\n",
      "    }\n",
      "  }\n",
      "  attr {\n",
      "    key: \"value\"\n",
      "    value {\n",
      "      tensor {\n",
      "        dtype: DT_INT32\n",
      "        tensor_shape {\n",
      "        }\n",
      "        int_val: 0\n",
      "      }\n",
      "    }\n",
      "  }\n",
      "}\n",
      "node {\n",
      "  name: \"zeros\"\n",
      "  op: \"Fill\"\n",
      "  input: \"zeros/shape_as_tensor\"\n",
      "  input: \"zeros/Const\"\n",
      "  attr {\n",
      "    key: \"T\"\n",
      "    value {\n",
      "      type: DT_INT32\n",
      "    }\n",
      "  }\n",
      "  attr {\n",
      "    key: \"index_type\"\n",
      "    value {\n",
      "      type: DT_INT32\n",
      "    }\n",
      "  }\n",
      "}\n",
      "node {\n",
      "  name: \"my_const\"\n",
      "  op: \"Const\"\n",
      "  attr {\n",
      "    key: \"dtype\"\n",
      "    value {\n",
      "      type: DT_FLOAT\n",
      "    }\n",
      "  }\n",
      "  attr {\n",
      "    key: \"value\"\n",
      "    value {\n",
      "      tensor {\n",
      "        dtype: DT_FLOAT\n",
      "        tensor_shape {\n",
      "          dim {\n",
      "            size: 2\n",
      "          }\n",
      "        }\n",
      "        tensor_content: \"\\000\\000\\200?\\000\\000\\000@\"\n",
      "      }\n",
      "    }\n",
      "  }\n",
      "}\n",
      "versions {\n",
      "  producer: 26\n",
      "}\n",
      "\n"
     ]
    }
   ],
   "source": [
    "# printing out the graph def\n",
    "\n",
    "my_const = tf.constant([1.0, 2.0], name=\"my_const\")\n",
    "\n",
    "with tf.Session() as sess:\n",
    "    print(sess.graph.as_graph_def())"
   ]
  },
  {
   "cell_type": "markdown",
   "metadata": {},
   "source": [
    "### Variables"
   ]
  },
  {
   "cell_type": "code",
   "execution_count": 9,
   "metadata": {},
   "outputs": [],
   "source": [
    "# create variables with tf.Variable\n",
    "\n",
    "s = tf.Variable(2, name='scalar')\n",
    "m = tf.Variable([[0, 1], [2, 3]], name='matrix')\n",
    "w = tf.Variable(tf.zeros([784, 10]))\n",
    "\n",
    "# also variables can be created by using tf.get_variable\n",
    "sg = tf.get_variable(\"scalar2\", initializer=tf.constant(2))\n",
    "mg = tf.get_variable(\"matrix2\", initializer=tf.constant([[0, 1], [2, 4]]))\n",
    "wg = tf.get_variable(\"big_matrix\", shape=(784, 10), initializer=tf.zeros_initializer())"
   ]
  },
  {
   "cell_type": "code",
   "execution_count": 15,
   "metadata": {},
   "outputs": [
    {
     "name": "stdout",
     "output_type": "stream",
     "text": [
      "Tensor(\"scalar_3/read:0\", shape=(), dtype=int32)\n"
     ]
    },
    {
     "data": {
      "text/plain": [
       "(<tf.Variable 'scalar_3:0' shape=() dtype=int32_ref>, None)"
      ]
     },
     "execution_count": 15,
     "metadata": {},
     "output_type": "execute_result"
    }
   ],
   "source": [
    "s, print(s.value())"
   ]
  },
  {
   "cell_type": "markdown",
   "metadata": {},
   "source": [
    "### Why tf.const and tf.Variable? it is because tf.const is an op where as tf.Variable is a class with many ops.\n",
    "\n",
    "    tf.Variable(...) holds several ops which are \n",
    "    x.initializer # init op\n",
    "    x.value() # read op\n",
    "    x.assign() # write op\n",
    "    x.assign_add() # and more\n",
    "    \n",
    "    #### If you try to access uninitialized variables there will be an exception, thus always initialize the variables before accessing them and the best way to do that is to use global variables initializer\n",
    "    \n",
    "    with tf.Session() as sess:\n",
    "        sess.run(tf.global_variables_initializer())\n",
    "        \n",
    "    Since Initializer is an op, it must be executed within the context of a session. Also only a subset of variables can be initialized as follows or if needed only a single variable can also be initialized\n",
    "    \n",
    "    # initializing set of variables\n",
    "    with tf.Session() as sess:\n",
    "        sess.run(tf.variables_initializer([a, b]))\n",
    "        \n",
    "    # initializing single variable\n",
    "    with tf.Session() as sess:\n",
    "        sess.run(W.initializer)"
   ]
  },
  {
   "cell_type": "code",
   "execution_count": 16,
   "metadata": {},
   "outputs": [
    {
     "name": "stdout",
     "output_type": "stream",
     "text": [
      "[[ 1.834228    0.15182053 -0.6002811  ... -0.21675114  1.2316219\n",
      "  -0.30490774]\n",
      " [ 0.02363384 -0.6221866  -0.89841247 ...  1.0145808  -0.4358228\n",
      "  -0.38684115]\n",
      " [ 0.08975025  0.93958086  0.196388   ... -1.2610238  -1.2481776\n",
      "   0.8720634 ]\n",
      " ...\n",
      " [-0.24828453 -0.32498893 -0.48279732 ...  1.2932884  -1.4542863\n",
      "   0.26246408]\n",
      " [-0.1928998   0.92277104  0.14586735 ...  0.12521408  0.5507113\n",
      "  -0.15304334]\n",
      " [-0.4665528  -0.724336   -0.02024512 ...  0.44051266  0.46336374\n",
      "  -0.6554293 ]]\n"
     ]
    }
   ],
   "source": [
    "# evaluating a variable\n",
    "# W_rand is a random 700x100 variable object\n",
    "\n",
    "w_rand = tf.Variable(tf.truncated_normal([700, 100]))\n",
    "with tf.Session() as sess:\n",
    "    sess.run(w_rand.initializer)\n",
    "    print(w_rand.eval()) # similar to print(sess.run(W_rand))"
   ]
  },
  {
   "cell_type": "code",
   "execution_count": 17,
   "metadata": {},
   "outputs": [
    {
     "name": "stdout",
     "output_type": "stream",
     "text": [
      "10\n"
     ]
    }
   ],
   "source": [
    "## info regarding the tf.Variable.assign()\n",
    "\n",
    "w1 = tf.Variable(10)\n",
    "w1.assign(33)\n",
    "\n",
    "with tf.Session() as sess:\n",
    "    sess.run(w1.initializer)\n",
    "    print(w1.eval()) "
   ]
  },
  {
   "cell_type": "markdown",
   "metadata": {},
   "source": [
    "#### The above cell prints 10 instead of 33 because tf.variable.assign() is an op and should be in the context of a session as all other ops also the assign op actually initializes the variables so those variables need not be initialized again"
   ]
  },
  {
   "cell_type": "code",
   "execution_count": 20,
   "metadata": {},
   "outputs": [
    {
     "name": "stdout",
     "output_type": "stream",
     "text": [
      "33\n"
     ]
    }
   ],
   "source": [
    "w2 = tf.Variable(45)\n",
    "assgin_op = w2.assign(33)\n",
    "\n",
    "with tf.Session() as sess:\n",
    "    sess.run(w2.initializer)\n",
    "    sess.run(assgin_op)\n",
    "    print(w2.eval())"
   ]
  },
  {
   "cell_type": "markdown",
   "metadata": {},
   "source": [
    "#### Each session maintains its own set of variables\n",
    "\n",
    "w = tf.Variable(10)\n",
    "\n",
    "s1 = tf.Session()\n",
    "s2 = tf.Session()\n",
    "\n",
    "s1.run(w.initializer)\n",
    "s2.run(w.initializer)\n",
    "\n",
    "print(s1.run(w.assign_add(10))) ==> 20\n",
    "print(s2.run(w.assign_sub(2))) ==> 8\n",
    "\n",
    "print(s1.run(w.assign_add(40))) ==> 60\n",
    "print(s2.run(w.assign_sub(50))) ==> -42\n",
    "\n",
    "s1.close()\n",
    "s2.close()"
   ]
  },
  {
   "cell_type": "markdown",
   "metadata": {},
   "source": [
    "#### sometimes when we have two or more independent ops and you'd like to specify which op should run first, then use tf.Graph.control_dependencies(control_inputs)"
   ]
  },
  {
   "cell_type": "markdown",
   "metadata": {},
   "source": [
    "#### Structure of a tf program\n",
    "\n",
    "    1. Assemble a graph\n",
    "    2. Use a session to execute the operations of the graph (this is very much like a general function f(x, y) = 2 * x + y where x and y are actualy placeholders)"
   ]
  },
  {
   "cell_type": "code",
   "execution_count": 21,
   "metadata": {},
   "outputs": [
    {
     "name": "stdout",
     "output_type": "stream",
     "text": [
      "[6. 7. 8.]\n"
     ]
    }
   ],
   "source": [
    "# using placeholders tf.placeholder(dtype, shape=None, name=None)\n",
    "\n",
    "# create a placeholder for a vector of 3 elements, type tf.float32\n",
    "a = tf.placeholder(tf.float32, shape=[3])\n",
    "\n",
    "b = tf.constant([5, 5, 5], tf.float32)\n",
    "\n",
    "# use a placeholder as you would use a constant  or a variable\n",
    "c = a + b # short for tf.add(a, b)\n",
    "\n",
    "with tf.Session() as sess:\n",
    "    \n",
    "    #print(sess.run(c)) # would throw an error since a doesn't have a value, \n",
    "    #so we have to supplement values to placeholder using dict\n",
    "    \n",
    "    print(sess.run(c, feed_dict={a: [1, 2, 3]})) # tensor a is the key, not the string 'a'\n",
    "    \n",
    "    \n"
   ]
  },
  {
   "cell_type": "markdown",
   "metadata": {},
   "source": [
    "#### usually it's best practice to define shape in the tf.placeholder since it will be easier later on for debugging and what if we want to feed multiple data points in \n",
    "\n",
    "    with tf.Session() as sess:\n",
    "        for a_value in list_of_values_for_a:\n",
    "            print(sess.run(c, feed_dict={a: a_value}))\n",
    "            \n",
    "\n",
    "#### To know whether a tensor is feedable or not use tf.Graph.is_feedable(tensor) which would be true if and only if tensor is feedable\n"
   ]
  },
  {
   "cell_type": "markdown",
   "metadata": {},
   "source": [
    "#### Lazy loading - Defer creating / initializing an object until it is needed and never use lazy loading since it bloats up the graph and it's very expensive to pass around the graph, if certain op is executed multiple times"
   ]
  },
  {
   "cell_type": "code",
   "execution_count": null,
   "metadata": {},
   "outputs": [],
   "source": []
  }
 ],
 "metadata": {
  "kernelspec": {
   "display_name": "Python 3",
   "language": "python",
   "name": "python3"
  },
  "language_info": {
   "codemirror_mode": {
    "name": "ipython",
    "version": 3
   },
   "file_extension": ".py",
   "mimetype": "text/x-python",
   "name": "python",
   "nbconvert_exporter": "python",
   "pygments_lexer": "ipython3",
   "version": "3.5.4"
  }
 },
 "nbformat": 4,
 "nbformat_minor": 2
}
