{
 "cells": [
  {
   "cell_type": "markdown",
   "metadata": {},
   "source": [
    "## Simple Linear regression using tensorflow"
   ]
  },
  {
   "cell_type": "code",
   "execution_count": 1,
   "metadata": {},
   "outputs": [
    {
     "name": "stderr",
     "output_type": "stream",
     "text": [
      "B:\\tookits\\Anaconda3\\envs\\DL\\lib\\site-packages\\h5py\\__init__.py:34: FutureWarning: Conversion of the second argument of issubdtype from `float` to `np.floating` is deprecated. In future, it will be treated as `np.float64 == np.dtype(float).type`.\n",
      "  from ._conv import register_converters as _register_converters\n"
     ]
    }
   ],
   "source": [
    "import numpy as np\n",
    "import matplotlib.pyplot as plt\n",
    "import tensorflow as tf"
   ]
  },
  {
   "cell_type": "markdown",
   "metadata": {},
   "source": [
    "#### Step1 - Loading the data"
   ]
  },
  {
   "cell_type": "code",
   "execution_count": 2,
   "metadata": {},
   "outputs": [],
   "source": [
    "data_file = './stanford-tensorflow-tutorials/examples/data/birth_life_2010.txt'\n",
    "\n",
    "with open(data_file, 'r') as f:\n",
    "    \n",
    "    header = f.readline().strip().split('\\t')\n",
    "    \n",
    "    data = [each_line.strip().split('\\t') for each_line in f]"
   ]
  },
  {
   "cell_type": "code",
   "execution_count": 3,
   "metadata": {},
   "outputs": [
    {
     "data": {
      "text/plain": [
       "['Country', 'Birth rate', 'Life expectancy']"
      ]
     },
     "execution_count": 3,
     "metadata": {},
     "output_type": "execute_result"
    }
   ],
   "source": [
    "header"
   ]
  },
  {
   "cell_type": "code",
   "execution_count": 4,
   "metadata": {},
   "outputs": [
    {
     "data": {
      "text/plain": [
       "[['Vietnam', '1.822', '74.828243902'],\n",
       " ['Vanuatu', '3.869', '70.819487805'],\n",
       " ['Tonga', '3.911', '72.150658537'],\n",
       " ['Timor-Leste', '5.578', '61.999853659'],\n",
       " ['Thailand', '1.579', '73.927658537'],\n",
       " ['Solomon Islands', '4.229', '67.465195122'],\n",
       " ['Singapore', '1.15', '81.641463415'],\n",
       " ['Samoa', '3.86', '72.306390244'],\n",
       " ['Philippines', '3.142', '68.484317073'],\n",
       " ['Papua New Guinea', '3.951', '62.440609756'],\n",
       " ['New Zealand', '2.16', '80.702439024'],\n",
       " ['New Caledonia', '2.141', '76.301682927'],\n",
       " ['Myanmar', '2.002', '64.662097561'],\n",
       " ['Mongolia', '2.504', '68.194975610'],\n",
       " ['Micronesia', '3.451', '68.764829268'],\n",
       " ['Malaysia', '2.635', '74.024560976'],\n",
       " ['Macao SAR, China', '1.092', '80.775317073'],\n",
       " ['Lao PDR', '2.747', '67.064'],\n",
       " ['Korea', '1.22', '80.761951220'],\n",
       " ['Japan', '1.39', '82.932682927'],\n",
       " ['Indonesia', '2.117', '68.889658537'],\n",
       " ['Hong Kong SAR, China', '1.108', '82.878048780'],\n",
       " ['Guam', '2.47', '75.994268293'],\n",
       " ['French Polynesia', '2.09', '75.076878049'],\n",
       " ['Fiji', '2.668', '69.225829268'],\n",
       " ['Dem. Rep. Korea', '2.022', '68.532146341'],\n",
       " ['China', '1.598', '73.273097561'],\n",
       " ['Cambodia', '2.581', '62.536219512'],\n",
       " ['Brunei', '2.042', '77.932024390'],\n",
       " ['Australia', '1.92', '81.695121951'],\n",
       " ['Uzbekistan', '2.499', '68.001'],\n",
       " ['United Kingdom', '1.94', '80.402439024'],\n",
       " ['Ukraine', '1.445', '70.275609756'],\n",
       " ['Turkmenistan', '2.399', '64.863512195'],\n",
       " ['Turkey', '2.088', '73.696658537'],\n",
       " ['Tajikistan', '3.297', '67.259902439'],\n",
       " ['Switzerland', '1.5', '82.246341463'],\n",
       " ['Sweden', '1.98', '81.451219512'],\n",
       " ['Spain', '1.39', '81.626829268'],\n",
       " ['Slovenia', '1.57', '79.421951220'],\n",
       " ['Slovak Republic', '1.4', '75.112195122'],\n",
       " ['Serbia', '1.4', '73.936585366'],\n",
       " ['Russia', '1.54', '68.804878049'],\n",
       " ['Romania', '1.38', '73.458536585'],\n",
       " ['Portugal', '1.32', '79.026829268'],\n",
       " ['Poland', '1.38', '76.246341463'],\n",
       " ['Norway', '1.95', '80.997560976'],\n",
       " ['Netherlands', '1.79', '80.702439024'],\n",
       " ['Montenegro', '1.656', '74.311097561'],\n",
       " ['Moldova', '1.475', '68.903707317'],\n",
       " ['Macedonia', '1.422', '74.618853659'],\n",
       " ['Luxembourg', '1.63', '80.087804878'],\n",
       " ['Lithuania', '1.55', '73.268292683'],\n",
       " ['Latvia', '1.17', '73.482926829'],\n",
       " ['Kyrgyz Republic', '2.898', '69.368463415'],\n",
       " ['Kosovo', '2.2893', '69.884390244'],\n",
       " ['Kazakhstan', '2.59', '68.295365854'],\n",
       " ['Italy', '1.4', '81.736585366'],\n",
       " ['Ireland', '2.07', '80.291951220'],\n",
       " ['Iceland', '2.2', '81.451219512'],\n",
       " ['Hungary', '1.25', '74.207317073'],\n",
       " ['Greece', '1.44', '80.387804878'],\n",
       " ['Germany', '1.39', '79.987804878'],\n",
       " ['Georgia', '1.555', '73.327341463'],\n",
       " ['France', '2', '81.368292683'],\n",
       " ['Finland', '1.87', '79.870731707'],\n",
       " ['Estonia', '1.63', '75.429268293'],\n",
       " ['Denmark', '1.87', '79.1'],\n",
       " ['Czech Republic', '1.49', '77.424390244'],\n",
       " ['Cyprus', '1.476', '79.380390244'],\n",
       " ['Croatia', '1.46', '76.475609756'],\n",
       " ['Channel Islands', '1.46', '79.832'],\n",
       " ['Bulgaria', '1.49', '73.512195122'],\n",
       " ['Bosnia and Herzegovina', '1.148', '75.400439024'],\n",
       " ['Belgium', '1.84', '79.936585366'],\n",
       " ['Belarus', '1.44', '70.404878049'],\n",
       " ['Azerbaijan', '2.3', '70.506512195'],\n",
       " ['Austria', '1.44', '80.382926829'],\n",
       " ['Armenia', '1.736', '73.783560976'],\n",
       " ['Albania', '1.536', '76.900951220'],\n",
       " ['Virgin Islands', '1.8', '79.189439024'],\n",
       " ['Venezuela', '2.49', '74.127317073'],\n",
       " ['Uruguay', '1.9856', '76.236829268'],\n",
       " ['Trinidad and Tobago', '1.639', '69.755'],\n",
       " ['The Bahamas', '1.896', '75.222121951'],\n",
       " ['Suriname', '2.336', '70.335317073'],\n",
       " ['St. Vincent and the Grenadines', '2.064', '72.112536585'],\n",
       " ['St. Lucia', '1.98', '74.439902439'],\n",
       " ['Puerto Rico', '1.797', '78.913292683'],\n",
       " ['Peru', '2.501', '73.764975610'],\n",
       " ['Paraguay', '2.954', '72.277'],\n",
       " ['Panama', '2.484', '75.974243902'],\n",
       " ['Nicaragua', '2.622', '73.729219512'],\n",
       " ['Mexico', '2.32', '76.683780488'],\n",
       " ['Jamaica', '2.329', '72.847121951'],\n",
       " ['Honduras', '3.139', '72.825926829'],\n",
       " ['Haiti', '3.34', '61.763'],\n",
       " ['Guyana', '2.262', '69.549146341'],\n",
       " ['Guatemala', '3.983', '70.825414634'],\n",
       " ['Grenada', '2.235', '75.660439024'],\n",
       " ['El Salvador', '2.25', '71.732365854'],\n",
       " ['Ecuador', '2.479', '75.462292683'],\n",
       " ['Dominican Republic', '2.58', '73.200024390'],\n",
       " ['Cuba', '1.467', '78.964146341'],\n",
       " ['Costa Rica', '1.848', '79.192609756'],\n",
       " ['Colombia', '2.1', '73.429682927'],\n",
       " ['Chile', '1.862', '78.885731707'],\n",
       " ['Brazil', '1.83', '73.099536585'],\n",
       " ['Bolivia', '3.348', '66.268560976'],\n",
       " ['Belize', '2.79', '75.839951220'],\n",
       " ['Barbados', '1.551', '76.572829268'],\n",
       " ['Aruba', '1.699', '74.975170732'],\n",
       " ['Argentina', '2.211', '75.632146341'],\n",
       " ['Yemen', '5.2', '65.030463415'],\n",
       " ['West Bank and Gaza', '4.453', '72.643682927'],\n",
       " ['United Arab Emirates', '1.749', '76.573609756'],\n",
       " ['Tunisia', '2.04', '74.6'],\n",
       " ['Syrian Arab Republic', '2.934', '75.702560976'],\n",
       " ['Saudi Arabia', '2.811', '73.850414634'],\n",
       " ['Qatar', '2.271', '78.097585366'],\n",
       " ['Oman', '2.309', '73.124609756'],\n",
       " ['Morocco', '2.279', '71.864634146'],\n",
       " ['Malta', '1.38', '80.948780488'],\n",
       " ['Libya', '2.564', '74.753121951'],\n",
       " ['Lebanon', '1.8', '72.408756098'],\n",
       " ['Kuwait', '2.295', '74.604731707'],\n",
       " ['Jordan', '3.8', '73.289658537'],\n",
       " ['Israel', '3.03', '81.504878049'],\n",
       " ['Iraq', '4.702', '68.486048780'],\n",
       " ['Iran', '1.67', '72.751853659'],\n",
       " ['Egypt', '2.733', '72.975268293'],\n",
       " ['Djibouti', '3.75', '57.527390244'],\n",
       " ['Bahrain', '2.54', '75.023829268'],\n",
       " ['Algeria', '2.264', '72.852536585'],\n",
       " ['United States', '2.1', '78.241463415'],\n",
       " ['Canada', '1.677', '80.797804878'],\n",
       " ['Bermuda', '1.764', '79.288536585'],\n",
       " ['Sri Lanka', '2.313', '74.722609756'],\n",
       " ['Pakistan', '3.423', '65.198853659'],\n",
       " ['Nepal', '2.727', '68.394829268'],\n",
       " ['Maldives', '1.752', '76.551414634'],\n",
       " ['India', '2.625', '65.131341463'],\n",
       " ['Bhutan', '2.399', '66.908853659'],\n",
       " ['Bangladesh', '2.245', '68.634804878'],\n",
       " ['Afghanistan', '6.288', '48.282195122'],\n",
       " ['Zimbabwe', '3.29', '49.860878049'],\n",
       " ['Zambia', '6.258', '48.455487805'],\n",
       " ['Uganda', '6.149', '53.614634146'],\n",
       " ['Togo', '4.072', '56.588707317'],\n",
       " ['The Gambia', '4.896', '58.160024390'],\n",
       " ['Tanzania', '5.544', '57.387487805'],\n",
       " ['Swaziland', '3.364', '48.342804878'],\n",
       " ['Sudan', '4.4', '61.108243902'],\n",
       " ['South Africa', '2.458', '52.081487805'],\n",
       " ['Somalia', '6.339', '50.895536585'],\n",
       " ['Sierra Leone', '4.982', '47.402195122'],\n",
       " ['Seychelles', '2.5', '73.034146341'],\n",
       " ['Senegal', '4.819', '58.954073171'],\n",
       " ['Rwanda', '5.371', '55.057121951'],\n",
       " ['Nigeria', '5.525', '51.410024390'],\n",
       " ['Niger', '7.063', '54.265634146'],\n",
       " ['Namibia', '3.217', '62.070097561'],\n",
       " ['Mozambique', '4.912', '49.696926829'],\n",
       " ['Mauritius', '1.47', '72.967317073'],\n",
       " ['Mauritania', '4.533', '58.216951220'],\n",
       " ['Mali', '6.294', '50.954829268'],\n",
       " ['Malawi', '5.99', '53.462634146'],\n",
       " ['Madagascar', '4.651', '66.467073171'],\n",
       " ['Liberia', '5.238', '56.147585366'],\n",
       " ['Lesotho', '3.199', '47.365073171'],\n",
       " ['Kenya', '4.718', '56.497073171'],\n",
       " ['Guinea-Bissau', '5.063', '47.700658537'],\n",
       " ['Guinea', '5.246', '53.638585366'],\n",
       " ['Ghana', '4.17', '63.837268293'],\n",
       " ['Gabon', '3.25', '62.286682927'],\n",
       " ['Ethiopia', '4.193', '58.715097561'],\n",
       " ['Eritrea', '4.453', '60.994195122'],\n",
       " ['Equatorial Guinea', '5.185', '50.840804878'],\n",
       " ['Dem. Rep. Congo', '5.775', '48.069585366'],\n",
       " ['Congo', '4.544', '56.960195122'],\n",
       " ['Comoros', '4.919', '60.626268293'],\n",
       " ['Chad', '5.981', '49.194829268'],\n",
       " ['Central African Republic', '4.631', '47.618463415'],\n",
       " ['Cape Verde', '2.405', '73.774048780'],\n",
       " ['Cameroon', '4.487', '51.062756098'],\n",
       " ['Burundi', '4.338', '49.877219512'],\n",
       " ['Burkina Faso', '5.85', '54.924195122'],\n",
       " ['Botswana', '2.75', '53.109512195'],\n",
       " ['Benin', '5.287', '55.585585366'],\n",
       " ['Angola', '5.443', '50.653658537']]"
      ]
     },
     "execution_count": 4,
     "metadata": {},
     "output_type": "execute_result"
    }
   ],
   "source": [
    "data"
   ]
  },
  {
   "cell_type": "markdown",
   "metadata": {},
   "source": [
    "#### Step2 - Create placeholders for x and y with are birthrate and life expectancy respectively. Also x and y are scalars with type float"
   ]
  },
  {
   "cell_type": "code",
   "execution_count": 5,
   "metadata": {},
   "outputs": [],
   "source": [
    "X = tf.placeholder(dtype=tf.float32, name='X')\n",
    "Y = tf.placeholder(dtype=tf.float32, name='Y')"
   ]
  },
  {
   "cell_type": "markdown",
   "metadata": {},
   "source": [
    "#### Step 3 - Create weights and bias"
   ]
  },
  {
   "cell_type": "code",
   "execution_count": null,
   "metadata": {},
   "outputs": [],
   "source": [
    "tf.reset_default_graph()"
   ]
  },
  {
   "cell_type": "code",
   "execution_count": 6,
   "metadata": {},
   "outputs": [],
   "source": [
    "W = tf.get_variable('W', shape=None, dtype=tf.float32, initializer=tf.constant(0.))\n",
    "b = tf.get_variable('b', shape=None, dtype=tf.float32, initializer=tf.constant(0.))"
   ]
  },
  {
   "cell_type": "markdown",
   "metadata": {},
   "source": [
    "#### Step 4 - Inference"
   ]
  },
  {
   "cell_type": "code",
   "execution_count": 7,
   "metadata": {},
   "outputs": [],
   "source": [
    "Y_predicted = W * X + b"
   ]
  },
  {
   "cell_type": "markdown",
   "metadata": {},
   "source": [
    "#### Step 5 - Loss function"
   ]
  },
  {
   "cell_type": "code",
   "execution_count": 8,
   "metadata": {},
   "outputs": [],
   "source": [
    "loss = tf.square(Y - Y_predicted, name='loss')"
   ]
  },
  {
   "cell_type": "markdown",
   "metadata": {},
   "source": [
    "#### Step6 - Create optimizer"
   ]
  },
  {
   "cell_type": "code",
   "execution_count": 9,
   "metadata": {},
   "outputs": [],
   "source": [
    "opt = tf.train.GradientDescentOptimizer(learning_rate=0.01)\n",
    "optimizer = opt.minimize(loss)"
   ]
  },
  {
   "cell_type": "markdown",
   "metadata": {},
   "source": [
    "#### Step 7 - Train and create file writer before running the session and after defining all the ops and the graph. Also initialize all the variables using the global variable initializer"
   ]
  },
  {
   "cell_type": "code",
   "execution_count": 10,
   "metadata": {},
   "outputs": [
    {
     "name": "stdout",
     "output_type": "stream",
     "text": [
      "Epoc 0: 490.15911085312007\n",
      "Epoc 1: 263.7506569439447\n",
      "Epoc 2: 159.36683598599936\n",
      "Epoc 3: 101.5251783138589\n",
      "Epoc 4: 69.41204028131538\n",
      "Epoc 5: 51.537577171877366\n",
      "Epoc 6: 41.5549916909738\n",
      "Epoc 7: 35.95518043831628\n",
      "Epoc 8: 32.79587873974141\n",
      "Epoc 9: 31.000316145585998\n",
      "Epoc 10: 29.970275642257185\n",
      "Epoc 11: 29.372525305186986\n",
      "Epoc 12: 29.020744182177403\n",
      "Epoc 13: 28.81027701647223\n",
      "Epoc 14: 28.681947983099196\n",
      "Epoc 15: 28.60207020171771\n",
      "Epoc 16: 28.551251236620164\n",
      "Epoc 17: 28.518188113740056\n",
      "Epoc 18: 28.496230050335075\n",
      "Epoc 19: 28.481361998880196\n",
      "Epoc 20: 28.471084763798373\n",
      "Epoc 21: 28.463894468659877\n",
      "Epoc 22: 28.45879525461381\n",
      "Epoc 23: 28.455126776264393\n",
      "Epoc 24: 28.45248662592402\n",
      "Epoc 25: 28.450571222223438\n",
      "Epoc 26: 28.449163216394126\n",
      "Epoc 27: 28.44812770580971\n",
      "Epoc 28: 28.44738010868038\n",
      "Epoc 29: 28.446812518921337\n",
      "Epoc 30: 28.446411356761267\n",
      "Epoc 31: 28.446103875586566\n",
      "Epoc 32: 28.44587420321707\n",
      "Epoc 33: 28.445709196050455\n",
      "Epoc 34: 28.445582969202416\n",
      "Epoc 35: 28.445495191563264\n",
      "Epoc 36: 28.445423805713652\n",
      "Epoc 37: 28.44537341386619\n",
      "Epoc 38: 28.445329490855435\n",
      "Epoc 39: 28.445318852260854\n",
      "Epoc 40: 28.445298011082617\n",
      "Epoc 41: 28.44527209780522\n",
      "Epoc 42: 28.445265824250924\n",
      "Epoc 43: 28.445266802378587\n",
      "Epoc 44: 28.44525520798848\n",
      "Epoc 45: 28.44525769181476\n",
      "Epoc 46: 28.445247870070958\n",
      "Epoc 47: 28.445250280603375\n",
      "Epoc 48: 28.445243066916927\n",
      "Epoc 49: 28.44523584585343\n",
      "Epoc 50: 28.445236500687162\n",
      "Epoc 51: 28.445236500687162\n",
      "Epoc 52: 28.445236500687162\n",
      "Epoc 53: 28.445236500687162\n",
      "Epoc 54: 28.445236500687162\n",
      "Epoc 55: 28.445236500687162\n",
      "Epoc 56: 28.445236500687162\n",
      "Epoc 57: 28.445236500687162\n",
      "Epoc 58: 28.445236500687162\n",
      "Epoc 59: 28.445236500687162\n",
      "Epoc 60: 28.445236500687162\n",
      "Epoc 61: 28.445236500687162\n",
      "Epoc 62: 28.445236500687162\n",
      "Epoc 63: 28.445236500687162\n",
      "Epoc 64: 28.445236500687162\n",
      "Epoc 65: 28.445236500687162\n",
      "Epoc 66: 28.445236500687162\n",
      "Epoc 67: 28.445236500687162\n",
      "Epoc 68: 28.445236500687162\n",
      "Epoc 69: 28.445236500687162\n",
      "Epoc 70: 28.445236500687162\n",
      "Epoc 71: 28.445236500687162\n",
      "Epoc 72: 28.445236500687162\n",
      "Epoc 73: 28.445236500687162\n",
      "Epoc 74: 28.445236500687162\n",
      "Epoc 75: 28.445236500687162\n",
      "Epoc 76: 28.445236500687162\n",
      "Epoc 77: 28.445236500687162\n",
      "Epoc 78: 28.445236500687162\n",
      "Epoc 79: 28.445236500687162\n",
      "Epoc 80: 28.445236500687162\n",
      "Epoc 81: 28.445236500687162\n",
      "Epoc 82: 28.445236500687162\n",
      "Epoc 83: 28.445236500687162\n",
      "Epoc 84: 28.445236500687162\n",
      "Epoc 85: 28.445236500687162\n",
      "Epoc 86: 28.445236500687162\n",
      "Epoc 87: 28.445236500687162\n",
      "Epoc 88: 28.445236500687162\n",
      "Epoc 89: 28.445236500687162\n",
      "Epoc 90: 28.445236500687162\n",
      "Epoc 91: 28.445236500687162\n",
      "Epoc 92: 28.445236500687162\n",
      "Epoc 93: 28.445236500687162\n",
      "Epoc 94: 28.445236500687162\n",
      "Epoc 95: 28.445236500687162\n",
      "Epoc 96: 28.445236500687162\n",
      "Epoc 97: 28.445236500687162\n",
      "Epoc 98: 28.445236500687162\n",
      "Epoc 99: 28.445236500687162\n"
     ]
    }
   ],
   "source": [
    "writer = tf.summary.FileWriter('./graphs/', tf.get_default_graph())\n",
    "\n",
    "with tf.Session() as sess:\n",
    "    \n",
    "    sess.run(tf.global_variables_initializer())\n",
    "    \n",
    "    for i in range(100):\n",
    "        \n",
    "        total_loss = 0\n",
    "        \n",
    "        for _, x, y in data:\n",
    "            \n",
    "            _, loss_ = sess.run([optimizer, loss], feed_dict={X:x, Y:y})\n",
    "            \n",
    "            \n",
    "            total_loss += loss_\n",
    "        \n",
    "        print('Epoc {0}: {1}'.format(i, total_loss / len(data)))\n",
    "        \n",
    "    writer.close()\n",
    "\n",
    "    w_out, b_out = W.eval(), b.eval()"
   ]
  },
  {
   "cell_type": "code",
   "execution_count": 24,
   "metadata": {},
   "outputs": [
    {
     "name": "stdout",
     "output_type": "stream",
     "text": [
      "(190, 2)\n"
     ]
    },
    {
     "data": {
      "image/png": "[encoded data removed]",
      "text/plain": [
       "<matplotlib.figure.Figure at 0x1f1072a1d68>"
      ]
     },
     "metadata": {},
     "output_type": "display_data"
    }
   ],
   "source": [
    "npdata = np.array(np.array(data)[:, 1:], dtype=float)\n",
    "plt.plot(npdata[:, 0], npdata[:, 1], 'bo', label='Real_data')\n",
    "plt.plot(npdata[:, 0], npdata[:, 0] * w_out + b_out, 'r', label='Predicted_data')\n",
    "plt.legend()\n",
    "plt.show()"
   ]
  },
  {
   "cell_type": "code",
   "execution_count": null,
   "metadata": {},
   "outputs": [],
   "source": []
  }
 ],
 "metadata": {
  "kernelspec": {
   "display_name": "Python 3",
   "language": "python",
   "name": "python3"
  },
  "language_info": {
   "codemirror_mode": {
    "name": "ipython",
    "version": 3
   },
   "file_extension": ".py",
   "mimetype": "text/x-python",
   "name": "python",
   "nbconvert_exporter": "python",
   "pygments_lexer": "ipython3",
   "version": "3.5.4"
  }
 },
 "nbformat": 4,
 "nbformat_minor": 2
}
